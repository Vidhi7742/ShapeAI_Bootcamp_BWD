{
  "nbformat": 4,
  "nbformat_minor": 0,
  "metadata": {
    "colab": {
      "name": "Copy of Python test2.ipynb",
      "provenance": [],
      "collapsed_sections": [],
      "include_colab_link": true
    },
    "kernelspec": {
      "name": "python3",
      "display_name": "Python 3"
    },
    "language_info": {
      "name": "python"
    }
  },
  "cells": [
    {
      "cell_type": "markdown",
      "metadata": {
        "id": "view-in-github",
        "colab_type": "text"
      },
      "source": [
        "<a href=\"https://colab.research.google.com/github/Vidhi7742/ShapeAI_Bootcamp_BWD/blob/main/Copy_of_Python_test2.ipynb\" target=\"_parent\"><img src=\"https://colab.research.google.com/assets/colab-badge.svg\" alt=\"Open In Colab\"/></a>"
      ]
    },
    {
      "cell_type": "code",
      "metadata": {
        "id": "0L1cGFA3U_34"
      },
      "source": [
        "string= \"I AM INDIAN\"  #1"
      ],
      "execution_count": null,
      "outputs": []
    },
    {
      "cell_type": "code",
      "metadata": {
        "colab": {
          "base_uri": "https://localhost:8080/"
        },
        "id": "f0Q41u3_VK3f",
        "outputId": "d86914f9-6f52-4f19-e79b-ed7350a3b49c"
      },
      "source": [
        "string=string.replace(\"D\",\"T\")    #1)i)\n",
        "print(string)                     \n"
      ],
      "execution_count": null,
      "outputs": [
        {
          "output_type": "stream",
          "text": [
            "NAITNI MA I\n"
          ],
          "name": "stdout"
        }
      ]
    },
    {
      "cell_type": "code",
      "metadata": {
        "colab": {
          "base_uri": "https://localhost:8080/"
        },
        "id": "ZQxP0HUTVd8c",
        "outputId": "1ed4adbe-ff70-4e35-8273-0cda844e747e"
      },
      "source": [
        "string= \"I AM INDIAN\"[::-1]    #1)iii)\n",
        "print(string)"
      ],
      "execution_count": null,
      "outputs": [
        {
          "output_type": "stream",
          "text": [
            "NAIDNI MA I\n"
          ],
          "name": "stdout"
        }
      ]
    },
    {
      "cell_type": "code",
      "metadata": {
        "colab": {
          "base_uri": "https://localhost:8080/",
          "height": 35
        },
        "id": "__ss7mOzV3F3",
        "outputId": "8efa05fe-2cfd-43b6-942f-53d3d52711d6"
      },
      "source": [
        "string.lower()         #1)iv)"
      ],
      "execution_count": null,
      "outputs": [
        {
          "output_type": "execute_result",
          "data": {
            "application/vnd.google.colaboratory.intrinsic+json": {
              "type": "string"
            },
            "text/plain": [
              "'i am indian'"
            ]
          },
          "metadata": {
            "tags": []
          },
          "execution_count": 8
        }
      ]
    },
    {
      "cell_type": "code",
      "metadata": {
        "id": "08SrZvHwWBI9"
      },
      "source": [
        "list1= [1,2,3,4,5]                #2)\n",
        "list2= [55,223,56,76,87]"
      ],
      "execution_count": null,
      "outputs": []
    },
    {
      "cell_type": "code",
      "metadata": {
        "colab": {
          "base_uri": "https://localhost:8080/"
        },
        "id": "QK170kHpWfC-",
        "outputId": "d7165ed9-79d1-433c-b1a0-fda52f5a2325"
      },
      "source": [
        "list1.append(89)\n",
        "print(list1)"
      ],
      "execution_count": null,
      "outputs": [
        {
          "output_type": "stream",
          "text": [
            "[1, 2, 3, 4, 5, 89]\n"
          ],
          "name": "stdout"
        }
      ]
    },
    {
      "cell_type": "code",
      "metadata": {
        "colab": {
          "base_uri": "https://localhost:8080/"
        },
        "id": "yT2V5oQRWzdW",
        "outputId": "2e29e3a6-214d-43c6-872a-c4bc2ee461a4"
      },
      "source": [
        "list1.extend(list2)\n",
        "print(list1)"
      ],
      "execution_count": null,
      "outputs": [
        {
          "output_type": "stream",
          "text": [
            "[1, 2, 3, 4, 5, 55, 223, 56, 76, 87]\n"
          ],
          "name": "stdout"
        }
      ]
    },
    {
      "cell_type": "code",
      "metadata": {
        "colab": {
          "base_uri": "https://localhost:8080/"
        },
        "id": "oP61hYOcXAVR",
        "outputId": "1ec7408a-e957-4298-a6dc-b37903897169"
      },
      "source": [
        "len(list1)"
      ],
      "execution_count": null,
      "outputs": [
        {
          "output_type": "execute_result",
          "data": {
            "text/plain": [
              "10"
            ]
          },
          "metadata": {
            "tags": []
          },
          "execution_count": 18
        }
      ]
    },
    {
      "cell_type": "code",
      "metadata": {
        "colab": {
          "base_uri": "https://localhost:8080/"
        },
        "id": "_GqqMEIUXNVL",
        "outputId": "f910c3f1-be25-4a12-ca3b-12509847f77c"
      },
      "source": [
        "str = input(\"Enter the string: \")      #3)\n",
        "temp=0\n",
        "for i in range(len(str)):\n",
        "  temp=temp+1\n",
        "print(\"Total characters in the string = \",temp)"
      ],
      "execution_count": null,
      "outputs": [
        {
          "output_type": "stream",
          "text": [
            "Enter the string hello\n",
            "Total characters in the string =  5\n"
          ],
          "name": "stdout"
        }
      ]
    },
    {
      "cell_type": "code",
      "metadata": {
        "colab": {
          "base_uri": "https://localhost:8080/"
        },
        "id": "xCxTK1H7XXCO",
        "outputId": "1eb1fded-4d32-4fe4-e7c8-d034c5efb07a"
      },
      "source": [
        "str = input(\"Enter any character :\")          #4)\n",
        "if str.islower():\n",
        "  print(\"The character is lowercase \")\n",
        "else:\n",
        "  print(\"The character is uppercase \")"
      ],
      "execution_count": null,
      "outputs": [
        {
          "output_type": "stream",
          "text": [
            "Enter any character :hello\n",
            "The character is lowercase \n"
          ],
          "name": "stdout"
        }
      ]
    },
    {
      "cell_type": "code",
      "metadata": {
        "colab": {
          "base_uri": "https://localhost:8080/"
        },
        "id": "epLzK589aYyH",
        "outputId": "1cbe223e-341d-4207-ba81-bab6aa1bb0cb"
      },
      "source": [
        "n=int(input(\"Enter the total number you want to enter:\"))              #5)\n",
        "\n",
        "sum=0\n",
        "\n",
        "for i in range(n):\n",
        "\n",
        "    x=int(input(\"Enter the number:\"))\n",
        "\n",
        "    sum=sum+x\n",
        "\n",
        "avg=sum/n\n",
        "\n",
        "print(\"Average=\",avg)"
      ],
      "execution_count": null,
      "outputs": [
        {
          "output_type": "stream",
          "text": [
            "Enter the total number you want to enter:3\n",
            "Enter the number:1\n",
            "Enter the number:3\n",
            "Enter the number:5\n",
            "Average= 3.0\n"
          ],
          "name": "stdout"
        }
      ]
    },
    {
      "cell_type": "code",
      "metadata": {
        "colab": {
          "base_uri": "https://localhost:8080/"
        },
        "id": "F1E9z99cam24",
        "outputId": "e1f4fa1e-8b18-43de-bdfc-b23d7a77f4fd"
      },
      "source": [
        "number = int(input(\"Enter a number: \"))              #6)\n",
        "sqrt = number ** 0.5\n",
        "print(\"square root:\", sqrt)"
      ],
      "execution_count": null,
      "outputs": [
        {
          "output_type": "stream",
          "text": [
            "Enter a number: 25\n",
            "square root: 5.0\n"
          ],
          "name": "stdout"
        }
      ]
    },
    {
      "cell_type": "code",
      "metadata": {
        "colab": {
          "base_uri": "https://localhost:8080/"
        },
        "id": "HpqcGukIcEIX",
        "outputId": "40656574-7dd9-4c13-fdb0-b0de33d4040b"
      },
      "source": [
        "num = int(input(\"Enter a number: \"))       #7)\n",
        "factorial = 1    \n",
        "if num < 0:    \n",
        "   print(\" Factorial does not exist for negative numbers\")    \n",
        "elif num == 0:    \n",
        "   print(\"The factorial of 0 is 1\")    \n",
        "else:    \n",
        "   for i in range(1,num + 1):    \n",
        "       factorial = factorial*i    \n",
        "   print(\"The factorial of\",num,\"is\",factorial)    "
      ],
      "execution_count": null,
      "outputs": [
        {
          "output_type": "stream",
          "text": [
            "Enter a number: 3\n",
            "The factorial of 3 is 6\n"
          ],
          "name": "stdout"
        }
      ]
    },
    {
      "cell_type": "code",
      "metadata": {
        "colab": {
          "base_uri": "https://localhost:8080/"
        },
        "id": "yYOQPog-dMw9",
        "outputId": "c50b2c7d-9868-411b-c2d8-2edc164ad492"
      },
      "source": [
        "n = int(input(\"Please Enter a Number: \"))           #8)\n",
        "\n",
        "last_digit = n % 10\n",
        "\n",
        "print(\"The Last Digit in the Number %d = %d\" %(n, last_digit))"
      ],
      "execution_count": null,
      "outputs": [
        {
          "output_type": "stream",
          "text": [
            "Please Enter a Number: 455\n",
            "The Last Digit in the Number 455 = 5\n"
          ],
          "name": "stdout"
        }
      ]
    },
    {
      "cell_type": "code",
      "metadata": {
        "colab": {
          "base_uri": "https://localhost:8080/"
        },
        "id": "rhR6YVZDfTZc",
        "outputId": "5e2a2acf-6522-4f55-b66f-8d8e4c271e39"
      },
      "source": [
        "list = [56, 37, 85, 13, 6, 93, 103]            #9)\n",
        "newList = sorted(list)\n",
        "print(newList)"
      ],
      "execution_count": null,
      "outputs": [
        {
          "output_type": "stream",
          "text": [
            "[6, 13, 37, 56, 85, 93, 103]\n"
          ],
          "name": "stdout"
        }
      ]
    },
    {
      "cell_type": "code",
      "metadata": {
        "colab": {
          "base_uri": "https://localhost:8080/"
        },
        "id": "8mg3Y0k4dzsH",
        "outputId": "145b886b-eaf6-48be-d9b5-73f68bb011c0"
      },
      "source": [
        "list = [10 ,30, 20, 40, 60, 90, 15, 45, 75]          #10)\n",
        "[x for x in list if x<50]\n",
        "\n",
        "\n"
      ],
      "execution_count": null,
      "outputs": [
        {
          "output_type": "execute_result",
          "data": {
            "text/plain": [
              "[10, 30, 20, 40, 15, 45]"
            ]
          },
          "metadata": {
            "tags": []
          },
          "execution_count": 30
        }
      ]
    },
    {
      "cell_type": "code",
      "metadata": {
        "colab": {
          "base_uri": "https://localhost:8080/"
        },
        "id": "7sYrlnMMfkZ4",
        "outputId": "45b85201-091e-4c73-acf7-c67b943a55ea"
      },
      "source": [
        "n = int(input(\"Enter n value : \"))       #11)\n",
        "d = {i:i **2 for i in range(1,n+1)}\n",
        "print(d)"
      ],
      "execution_count": null,
      "outputs": [
        {
          "output_type": "stream",
          "text": [
            "Enter n value : 5\n",
            "{1: 1, 2: 4, 3: 9, 4: 16, 5: 25}\n"
          ],
          "name": "stdout"
        }
      ]
    },
    {
      "cell_type": "code",
      "metadata": {
        "colab": {
          "base_uri": "https://localhost:8080/"
        },
        "id": "7zTzk7TmgfOZ",
        "outputId": "f68b5b91-85b4-4a93-ef73-c4be5cc137e5"
      },
      "source": [
        "a = int(input(\"Enter the first number : \"))       #12)\n",
        "n = int(input(\"Enter the total numbers in the A.P Series : \"))\n",
        "d = int(input(\"Enter the common difference : \"))\n",
        "sum = (n * (2 * a + (n - 1) * d)) / 2\n",
        "print(sum)\n"
      ],
      "execution_count": null,
      "outputs": [
        {
          "output_type": "stream",
          "text": [
            "Enter the first number : 1\n",
            "Enter the total numbers in the A.P Series : 5\n",
            "Enter the common difference : 2\n",
            "25.0\n"
          ],
          "name": "stdout"
        }
      ]
    },
    {
      "cell_type": "code",
      "metadata": {
        "colab": {
          "base_uri": "https://localhost:8080/"
        },
        "id": "_IbNqinchXUG",
        "outputId": "ed94de44-60b5-494a-bdd9-2837c2c11850"
      },
      "source": [
        "n=int(input(\"Enter a number:\"))         #13)\n",
        "temp=n\n",
        "rev=0\n",
        "while(n>0):\n",
        "    dig=n%10\n",
        "    rev=rev*10+dig\n",
        "    n=n//10\n",
        "if(temp==rev):\n",
        "    print(\"The number is a palindrome\")\n",
        "else:\n",
        "    print(\"The number is not a palindrome\")"
      ],
      "execution_count": null,
      "outputs": [
        {
          "output_type": "stream",
          "text": [
            "Enter a number:343\n",
            "The number is a palindrome\n"
          ],
          "name": "stdout"
        }
      ]
    },
    {
      "cell_type": "code",
      "metadata": {
        "colab": {
          "base_uri": "https://localhost:8080/"
        },
        "id": "dZz-aBAHiR-W",
        "outputId": "99909681-390c-40d9-9f4c-aa8b4e2cb151"
      },
      "source": [
        "size = 5                 #14)\n",
        "m = (2 * size) - 2\n",
        "for i in range(0, size):\n",
        "    for j in range(0, m):\n",
        "        print(end=\" \")\n",
        "    \n",
        "    m = m - 1\n",
        "    for j in range(0, i + 1):\n",
        "        print(\"* \", end=' ')\n",
        "    print(\" \")"
      ],
      "execution_count": null,
      "outputs": [
        {
          "output_type": "stream",
          "text": [
            "        *   \n",
            "       *  *   \n",
            "      *  *  *   \n",
            "     *  *  *  *   \n",
            "    *  *  *  *  *   \n"
          ],
          "name": "stdout"
        }
      ]
    },
    {
      "cell_type": "code",
      "metadata": {
        "colab": {
          "base_uri": "https://localhost:8080/"
        },
        "id": "8fYNuF1fipoO",
        "outputId": "24ccc305-ce6c-4e25-9f65-cf67e10b4e80"
      },
      "source": [
        "sum=0              #15)\n",
        "\n",
        "num=int(input(\"Enter a number:\"))  \n",
        "\n",
        "temp=num  \n",
        "\n",
        "while(num):  \n",
        " \n",
        "    i=1  \n",
        " \n",
        "    fact=1  \n",
        "    rem=num%10  \n",
        "    while(i<=rem):  \n",
        "        fact=fact*i    \n",
        "        i=i+1  \n",
        "    sum=sum+fact  \n",
        "    num=num//10  \n",
        "if(sum==temp):  \n",
        "    print(\"Given number is a strong number\")  \n",
        "else:  \n",
        "    print(\"Given number is not a strong number\")  "
      ],
      "execution_count": null,
      "outputs": [
        {
          "output_type": "stream",
          "text": [
            "Enter a number:145\n",
            "Given number is a strong number\n"
          ],
          "name": "stdout"
        }
      ]
    }
  ]
}